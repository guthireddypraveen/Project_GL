{
 "cells": [
  {
   "cell_type": "markdown",
   "metadata": {},
   "source": [
    "## Importing the libraries."
   ]
  },
  {
   "cell_type": "code",
   "execution_count": 1,
   "metadata": {},
   "outputs": [],
   "source": [
    "import pandas as pd\n",
    "import numpy as np\n",
    "import seaborn as sns\n",
    "import matplotlib.pyplot as plt\n",
    "import seaborn as sns\n",
    "import matplotlib.pyplot as px\n",
    "import warnings\n",
    "warnings.filterwarnings('ignore')"
   ]
  },
  {
   "cell_type": "markdown",
   "metadata": {},
   "source": [
    "## Q1. Reading the data set."
   ]
  },
  {
   "cell_type": "code",
   "execution_count": 2,
   "metadata": {},
   "outputs": [
    {
     "data": {
      "text/html": [
       "<div>\n",
       "<style scoped>\n",
       "    .dataframe tbody tr th:only-of-type {\n",
       "        vertical-align: middle;\n",
       "    }\n",
       "\n",
       "    .dataframe tbody tr th {\n",
       "        vertical-align: top;\n",
       "    }\n",
       "\n",
       "    .dataframe thead th {\n",
       "        text-align: right;\n",
       "    }\n",
       "</style>\n",
       "<table border=\"1\" class=\"dataframe\">\n",
       "  <thead>\n",
       "    <tr style=\"text-align: right;\">\n",
       "      <th></th>\n",
       "      <th>Unnamed: 0</th>\n",
       "      <th>url</th>\n",
       "      <th>address</th>\n",
       "      <th>name</th>\n",
       "      <th>online_order</th>\n",
       "      <th>book_table</th>\n",
       "      <th>rate</th>\n",
       "      <th>votes</th>\n",
       "      <th>phone</th>\n",
       "      <th>location</th>\n",
       "      <th>rest_type</th>\n",
       "      <th>dish_liked</th>\n",
       "      <th>cuisines</th>\n",
       "      <th>approx_cost(for two people)</th>\n",
       "      <th>reviews_list</th>\n",
       "      <th>menu_item</th>\n",
       "      <th>listed_in(type)</th>\n",
       "      <th>listed_in(city)</th>\n",
       "    </tr>\n",
       "  </thead>\n",
       "  <tbody>\n",
       "    <tr>\n",
       "      <th>0</th>\n",
       "      <td>14221</td>\n",
       "      <td>https://www.zomato.com/bangalore/shree-ranga-v...</td>\n",
       "      <td>366, Hosur Main Road, Attibele, Anekal Taluk, ...</td>\n",
       "      <td>Shree Ranga Vilas</td>\n",
       "      <td>No</td>\n",
       "      <td>No</td>\n",
       "      <td>3.2/5</td>\n",
       "      <td>7</td>\n",
       "      <td>080 29765044</td>\n",
       "      <td>Electronic City</td>\n",
       "      <td>Casual Dining</td>\n",
       "      <td>NaN</td>\n",
       "      <td>North Indian, South Indian, Chinese, Juices</td>\n",
       "      <td>500</td>\n",
       "      <td>[('Rated 3.0', 'RATED\\n  Typical South Indian ...</td>\n",
       "      <td>[]</td>\n",
       "      <td>Dine-out</td>\n",
       "      <td>Electronic City</td>\n",
       "    </tr>\n",
       "    <tr>\n",
       "      <th>1</th>\n",
       "      <td>43422</td>\n",
       "      <td>https://www.zomato.com/bangalore/sphyre-gatewa...</td>\n",
       "      <td>Gateway Hotel, 66, Residency Road, Bangalore</td>\n",
       "      <td>Sphyre - Gateway Hotel</td>\n",
       "      <td>No</td>\n",
       "      <td>No</td>\n",
       "      <td>3.6 /5</td>\n",
       "      <td>45</td>\n",
       "      <td>+91 9886643495\\n+91 9898780004</td>\n",
       "      <td>Residency Road</td>\n",
       "      <td>Lounge</td>\n",
       "      <td>NaN</td>\n",
       "      <td>Finger Food</td>\n",
       "      <td>1,700</td>\n",
       "      <td>[('Rated 1.0', 'RATED\\n  Expected a good night...</td>\n",
       "      <td>[]</td>\n",
       "      <td>Dine-out</td>\n",
       "      <td>MG Road</td>\n",
       "    </tr>\n",
       "    <tr>\n",
       "      <th>2</th>\n",
       "      <td>16032</td>\n",
       "      <td>https://www.zomato.com/bangalore/popular-baker...</td>\n",
       "      <td>19, BDA Complex, HSR, Bangalore</td>\n",
       "      <td>Popular Bakery</td>\n",
       "      <td>No</td>\n",
       "      <td>No</td>\n",
       "      <td>3.7/5</td>\n",
       "      <td>36</td>\n",
       "      <td>+91 8105834605\\r\\n080 25722488</td>\n",
       "      <td>HSR</td>\n",
       "      <td>Dessert Parlor, Bakery</td>\n",
       "      <td>NaN</td>\n",
       "      <td>Desserts, Bakery</td>\n",
       "      <td>600</td>\n",
       "      <td>[('Rated 5.0', \"RATED\\n  This outlet is in HSR...</td>\n",
       "      <td>[]</td>\n",
       "      <td>Delivery</td>\n",
       "      <td>HSR</td>\n",
       "    </tr>\n",
       "    <tr>\n",
       "      <th>3</th>\n",
       "      <td>51635</td>\n",
       "      <td>https://www.zomato.com/bangalore/thai-chinese-...</td>\n",
       "      <td>7, Anurhh Arcade, Hoodi Road, Kodigehalli Road...</td>\n",
       "      <td>Thai &amp; Chinese Fast Food</td>\n",
       "      <td>No</td>\n",
       "      <td>No</td>\n",
       "      <td>3.4 /5</td>\n",
       "      <td>7</td>\n",
       "      <td>+91 9206260085\\n+91 7619416923</td>\n",
       "      <td>KR Puram</td>\n",
       "      <td>Quick Bites</td>\n",
       "      <td>NaN</td>\n",
       "      <td>Chinese, Thai</td>\n",
       "      <td>400</td>\n",
       "      <td>[('Rated 5.0', 'RATED\\n  Its Looking delicious...</td>\n",
       "      <td>[]</td>\n",
       "      <td>Dine-out</td>\n",
       "      <td>Whitefield</td>\n",
       "    </tr>\n",
       "    <tr>\n",
       "      <th>4</th>\n",
       "      <td>23424</td>\n",
       "      <td>https://www.zomato.com/bangalore/grill-on-whee...</td>\n",
       "      <td>Kothanuru Main Road, Puttenahalli Road, Natara...</td>\n",
       "      <td>Grill On Wheels</td>\n",
       "      <td>No</td>\n",
       "      <td>No</td>\n",
       "      <td>NEW</td>\n",
       "      <td>0</td>\n",
       "      <td>+91 9901979901</td>\n",
       "      <td>JP Nagar</td>\n",
       "      <td>Quick Bites</td>\n",
       "      <td>NaN</td>\n",
       "      <td>North Indian, Chinese, BBQ, Arabian, Fast Food</td>\n",
       "      <td>400</td>\n",
       "      <td>[]</td>\n",
       "      <td>[]</td>\n",
       "      <td>Dine-out</td>\n",
       "      <td>JP Nagar</td>\n",
       "    </tr>\n",
       "    <tr>\n",
       "      <th>...</th>\n",
       "      <td>...</td>\n",
       "      <td>...</td>\n",
       "      <td>...</td>\n",
       "      <td>...</td>\n",
       "      <td>...</td>\n",
       "      <td>...</td>\n",
       "      <td>...</td>\n",
       "      <td>...</td>\n",
       "      <td>...</td>\n",
       "      <td>...</td>\n",
       "      <td>...</td>\n",
       "      <td>...</td>\n",
       "      <td>...</td>\n",
       "      <td>...</td>\n",
       "      <td>...</td>\n",
       "      <td>...</td>\n",
       "      <td>...</td>\n",
       "      <td>...</td>\n",
       "    </tr>\n",
       "    <tr>\n",
       "      <th>9995</th>\n",
       "      <td>26497</td>\n",
       "      <td>https://www.zomato.com/bangalore/asia-kitchen-...</td>\n",
       "      <td>136, Ground Floor, 1st Cross, 5th Block, Jyoti...</td>\n",
       "      <td>Asia Kitchen By Mainland China</td>\n",
       "      <td>Yes</td>\n",
       "      <td>Yes</td>\n",
       "      <td>4.9/5</td>\n",
       "      <td>2215</td>\n",
       "      <td>080 49652573</td>\n",
       "      <td>Koramangala 5th Block</td>\n",
       "      <td>Casual Dining, Bar</td>\n",
       "      <td>Chicken Dim Sum, Pad Thai Noodle, Jumbo Prawns...</td>\n",
       "      <td>Asian, Chinese, Thai, Momos</td>\n",
       "      <td>1,500</td>\n",
       "      <td>[('Rated 5.0', \"RATED\\n  Everything from the a...</td>\n",
       "      <td>[]</td>\n",
       "      <td>Buffet</td>\n",
       "      <td>Koramangala 4th Block</td>\n",
       "    </tr>\n",
       "    <tr>\n",
       "      <th>9996</th>\n",
       "      <td>45520</td>\n",
       "      <td>https://www.zomato.com/bangalore/24-hours-cake...</td>\n",
       "      <td>Shop 1, ATR Complex, Old Airport Road, Bangalore</td>\n",
       "      <td>24 Hours Cake Delivery</td>\n",
       "      <td>No</td>\n",
       "      <td>No</td>\n",
       "      <td>3.3 /5</td>\n",
       "      <td>4</td>\n",
       "      <td>+91 9711655952</td>\n",
       "      <td>Old Airport Road</td>\n",
       "      <td>Delivery</td>\n",
       "      <td>NaN</td>\n",
       "      <td>Bakery</td>\n",
       "      <td>700</td>\n",
       "      <td>[('Rated 1.0', 'RATED\\n  Very unprofessional b...</td>\n",
       "      <td>[]</td>\n",
       "      <td>Desserts</td>\n",
       "      <td>Old Airport Road</td>\n",
       "    </tr>\n",
       "    <tr>\n",
       "      <th>9997</th>\n",
       "      <td>41541</td>\n",
       "      <td>https://www.zomato.com/bangalore/tbc-sky-loung...</td>\n",
       "      <td>36/1, 5th Floor, Berry's Hotel Kadubeesanahall...</td>\n",
       "      <td>TBC- Sky Lounge</td>\n",
       "      <td>No</td>\n",
       "      <td>Yes</td>\n",
       "      <td>4.4 /5</td>\n",
       "      <td>619</td>\n",
       "      <td>080 42106712\\n+91 7624959444</td>\n",
       "      <td>Marathahalli</td>\n",
       "      <td>Casual Dining, Bar</td>\n",
       "      <td>Fish, Peri Peri Chicken, Cocktails, Chilli Chi...</td>\n",
       "      <td>Continental, Asian, Italian, North Indian</td>\n",
       "      <td>1,000</td>\n",
       "      <td>[('Rated 2.0', 'RATED\\n  The high rating on Zo...</td>\n",
       "      <td>[]</td>\n",
       "      <td>Dine-out</td>\n",
       "      <td>Marathahalli</td>\n",
       "    </tr>\n",
       "    <tr>\n",
       "      <th>9998</th>\n",
       "      <td>35621</td>\n",
       "      <td>https://www.zomato.com/bangalore/tawa-sagara-j...</td>\n",
       "      <td>29/1, 30th Cross, 4th T Block, Thilknagar, Jay...</td>\n",
       "      <td>Tawa Sagara</td>\n",
       "      <td>No</td>\n",
       "      <td>No</td>\n",
       "      <td>3.8 /5</td>\n",
       "      <td>122</td>\n",
       "      <td>NaN</td>\n",
       "      <td>Jayanagar</td>\n",
       "      <td>Casual Dining</td>\n",
       "      <td>Sea Food, Biryani, Fish Thali, Neer Dosa, Murg...</td>\n",
       "      <td>Mangalorean, Seafood</td>\n",
       "      <td>NaN</td>\n",
       "      <td>[('Rated 1.0', 'RATED\\n  We orders chicken suk...</td>\n",
       "      <td>[]</td>\n",
       "      <td>Delivery</td>\n",
       "      <td>Koramangala 7th Block</td>\n",
       "    </tr>\n",
       "    <tr>\n",
       "      <th>9999</th>\n",
       "      <td>27432</td>\n",
       "      <td>https://www.zomato.com/bangalore/a3-nuwang-kit...</td>\n",
       "      <td>6/1, Ejipura Pipeline Road, Ejipura, Bangalore</td>\n",
       "      <td>A3 Nuwang Kitchen</td>\n",
       "      <td>Yes</td>\n",
       "      <td>No</td>\n",
       "      <td>3.7/5</td>\n",
       "      <td>42</td>\n",
       "      <td>+91 8892430466\\r\\n+91 8867915147</td>\n",
       "      <td>Ejipura</td>\n",
       "      <td>Quick Bites</td>\n",
       "      <td>NaN</td>\n",
       "      <td>Chinese, North Indian</td>\n",
       "      <td>300</td>\n",
       "      <td>[('Rated 4.0', 'RATED\\n  I stay near by and ea...</td>\n",
       "      <td>[]</td>\n",
       "      <td>Delivery</td>\n",
       "      <td>Koramangala 4th Block</td>\n",
       "    </tr>\n",
       "  </tbody>\n",
       "</table>\n",
       "<p>10000 rows × 18 columns</p>\n",
       "</div>"
      ],
      "text/plain": [
       "      Unnamed: 0                                                url  \\\n",
       "0          14221  https://www.zomato.com/bangalore/shree-ranga-v...   \n",
       "1          43422  https://www.zomato.com/bangalore/sphyre-gatewa...   \n",
       "2          16032  https://www.zomato.com/bangalore/popular-baker...   \n",
       "3          51635  https://www.zomato.com/bangalore/thai-chinese-...   \n",
       "4          23424  https://www.zomato.com/bangalore/grill-on-whee...   \n",
       "...          ...                                                ...   \n",
       "9995       26497  https://www.zomato.com/bangalore/asia-kitchen-...   \n",
       "9996       45520  https://www.zomato.com/bangalore/24-hours-cake...   \n",
       "9997       41541  https://www.zomato.com/bangalore/tbc-sky-loung...   \n",
       "9998       35621  https://www.zomato.com/bangalore/tawa-sagara-j...   \n",
       "9999       27432  https://www.zomato.com/bangalore/a3-nuwang-kit...   \n",
       "\n",
       "                                                address  \\\n",
       "0     366, Hosur Main Road, Attibele, Anekal Taluk, ...   \n",
       "1          Gateway Hotel, 66, Residency Road, Bangalore   \n",
       "2                       19, BDA Complex, HSR, Bangalore   \n",
       "3     7, Anurhh Arcade, Hoodi Road, Kodigehalli Road...   \n",
       "4     Kothanuru Main Road, Puttenahalli Road, Natara...   \n",
       "...                                                 ...   \n",
       "9995  136, Ground Floor, 1st Cross, 5th Block, Jyoti...   \n",
       "9996   Shop 1, ATR Complex, Old Airport Road, Bangalore   \n",
       "9997  36/1, 5th Floor, Berry's Hotel Kadubeesanahall...   \n",
       "9998  29/1, 30th Cross, 4th T Block, Thilknagar, Jay...   \n",
       "9999     6/1, Ejipura Pipeline Road, Ejipura, Bangalore   \n",
       "\n",
       "                                name online_order book_table    rate  votes  \\\n",
       "0                  Shree Ranga Vilas           No         No   3.2/5      7   \n",
       "1             Sphyre - Gateway Hotel           No         No  3.6 /5     45   \n",
       "2                     Popular Bakery           No         No   3.7/5     36   \n",
       "3           Thai & Chinese Fast Food           No         No  3.4 /5      7   \n",
       "4                    Grill On Wheels           No         No     NEW      0   \n",
       "...                              ...          ...        ...     ...    ...   \n",
       "9995  Asia Kitchen By Mainland China          Yes        Yes   4.9/5   2215   \n",
       "9996          24 Hours Cake Delivery           No         No  3.3 /5      4   \n",
       "9997                 TBC- Sky Lounge           No        Yes  4.4 /5    619   \n",
       "9998                     Tawa Sagara           No         No  3.8 /5    122   \n",
       "9999               A3 Nuwang Kitchen          Yes         No   3.7/5     42   \n",
       "\n",
       "                                 phone               location  \\\n",
       "0                         080 29765044        Electronic City   \n",
       "1       +91 9886643495\\n+91 9898780004         Residency Road   \n",
       "2       +91 8105834605\\r\\n080 25722488                    HSR   \n",
       "3       +91 9206260085\\n+91 7619416923               KR Puram   \n",
       "4                       +91 9901979901               JP Nagar   \n",
       "...                                ...                    ...   \n",
       "9995                      080 49652573  Koramangala 5th Block   \n",
       "9996                    +91 9711655952       Old Airport Road   \n",
       "9997      080 42106712\\n+91 7624959444           Marathahalli   \n",
       "9998                               NaN              Jayanagar   \n",
       "9999  +91 8892430466\\r\\n+91 8867915147                Ejipura   \n",
       "\n",
       "                   rest_type  \\\n",
       "0              Casual Dining   \n",
       "1                     Lounge   \n",
       "2     Dessert Parlor, Bakery   \n",
       "3                Quick Bites   \n",
       "4                Quick Bites   \n",
       "...                      ...   \n",
       "9995      Casual Dining, Bar   \n",
       "9996                Delivery   \n",
       "9997      Casual Dining, Bar   \n",
       "9998           Casual Dining   \n",
       "9999             Quick Bites   \n",
       "\n",
       "                                             dish_liked  \\\n",
       "0                                                   NaN   \n",
       "1                                                   NaN   \n",
       "2                                                   NaN   \n",
       "3                                                   NaN   \n",
       "4                                                   NaN   \n",
       "...                                                 ...   \n",
       "9995  Chicken Dim Sum, Pad Thai Noodle, Jumbo Prawns...   \n",
       "9996                                                NaN   \n",
       "9997  Fish, Peri Peri Chicken, Cocktails, Chilli Chi...   \n",
       "9998  Sea Food, Biryani, Fish Thali, Neer Dosa, Murg...   \n",
       "9999                                                NaN   \n",
       "\n",
       "                                            cuisines  \\\n",
       "0        North Indian, South Indian, Chinese, Juices   \n",
       "1                                        Finger Food   \n",
       "2                                   Desserts, Bakery   \n",
       "3                                      Chinese, Thai   \n",
       "4     North Indian, Chinese, BBQ, Arabian, Fast Food   \n",
       "...                                              ...   \n",
       "9995                     Asian, Chinese, Thai, Momos   \n",
       "9996                                          Bakery   \n",
       "9997       Continental, Asian, Italian, North Indian   \n",
       "9998                            Mangalorean, Seafood   \n",
       "9999                           Chinese, North Indian   \n",
       "\n",
       "     approx_cost(for two people)  \\\n",
       "0                            500   \n",
       "1                          1,700   \n",
       "2                            600   \n",
       "3                            400   \n",
       "4                            400   \n",
       "...                          ...   \n",
       "9995                       1,500   \n",
       "9996                         700   \n",
       "9997                       1,000   \n",
       "9998                         NaN   \n",
       "9999                         300   \n",
       "\n",
       "                                           reviews_list menu_item  \\\n",
       "0     [('Rated 3.0', 'RATED\\n  Typical South Indian ...        []   \n",
       "1     [('Rated 1.0', 'RATED\\n  Expected a good night...        []   \n",
       "2     [('Rated 5.0', \"RATED\\n  This outlet is in HSR...        []   \n",
       "3     [('Rated 5.0', 'RATED\\n  Its Looking delicious...        []   \n",
       "4                                                    []        []   \n",
       "...                                                 ...       ...   \n",
       "9995  [('Rated 5.0', \"RATED\\n  Everything from the a...        []   \n",
       "9996  [('Rated 1.0', 'RATED\\n  Very unprofessional b...        []   \n",
       "9997  [('Rated 2.0', 'RATED\\n  The high rating on Zo...        []   \n",
       "9998  [('Rated 1.0', 'RATED\\n  We orders chicken suk...        []   \n",
       "9999  [('Rated 4.0', 'RATED\\n  I stay near by and ea...        []   \n",
       "\n",
       "     listed_in(type)        listed_in(city)  \n",
       "0           Dine-out        Electronic City  \n",
       "1           Dine-out                MG Road  \n",
       "2           Delivery                    HSR  \n",
       "3           Dine-out             Whitefield  \n",
       "4           Dine-out               JP Nagar  \n",
       "...              ...                    ...  \n",
       "9995          Buffet  Koramangala 4th Block  \n",
       "9996        Desserts       Old Airport Road  \n",
       "9997        Dine-out           Marathahalli  \n",
       "9998        Delivery  Koramangala 7th Block  \n",
       "9999        Delivery  Koramangala 4th Block  \n",
       "\n",
       "[10000 rows x 18 columns]"
      ]
     },
     "execution_count": 2,
     "metadata": {},
     "output_type": "execute_result"
    }
   ],
   "source": [
    "df=pd.read_csv('zomoto.csv')\n",
    "df"
   ]
  },
  {
   "cell_type": "code",
   "execution_count": 3,
   "metadata": {},
   "outputs": [
    {
     "data": {
      "text/plain": [
       "Unnamed: 0                      int64\n",
       "url                            object\n",
       "address                        object\n",
       "name                           object\n",
       "online_order                   object\n",
       "book_table                     object\n",
       "rate                           object\n",
       "votes                           int64\n",
       "phone                          object\n",
       "location                       object\n",
       "rest_type                      object\n",
       "dish_liked                     object\n",
       "cuisines                       object\n",
       "approx_cost(for two people)    object\n",
       "reviews_list                   object\n",
       "menu_item                      object\n",
       "listed_in(type)                object\n",
       "listed_in(city)                object\n",
       "dtype: object"
      ]
     },
     "execution_count": 3,
     "metadata": {},
     "output_type": "execute_result"
    }
   ],
   "source": [
    "# Checking data types of columns.\n",
    "\n",
    "df.dtypes"
   ]
  },
  {
   "cell_type": "code",
   "execution_count": 4,
   "metadata": {},
   "outputs": [
    {
     "data": {
      "text/plain": [
       "Index(['Unnamed: 0', 'url', 'address', 'name', 'online_order', 'book_table',\n",
       "       'rate', 'votes', 'phone', 'location', 'rest_type', 'dish_liked',\n",
       "       'cuisines', 'approx_cost(for two people)', 'reviews_list', 'menu_item',\n",
       "       'listed_in(type)', 'listed_in(city)'],\n",
       "      dtype='object')"
      ]
     },
     "execution_count": 4,
     "metadata": {},
     "output_type": "execute_result"
    }
   ],
   "source": [
    "# Checking column names.\n",
    "\n",
    "df.columns"
   ]
  },
  {
   "cell_type": "code",
   "execution_count": 5,
   "metadata": {},
   "outputs": [
    {
     "data": {
      "text/plain": [
       "Unnamed: 0                        0\n",
       "url                               0\n",
       "address                           0\n",
       "name                              0\n",
       "online_order                      0\n",
       "book_table                        0\n",
       "rate                           1472\n",
       "votes                             0\n",
       "phone                           236\n",
       "location                          3\n",
       "rest_type                        47\n",
       "dish_liked                     5358\n",
       "cuisines                          5\n",
       "approx_cost(for two people)      59\n",
       "reviews_list                      0\n",
       "menu_item                         0\n",
       "listed_in(type)                   0\n",
       "listed_in(city)                   0\n",
       "dtype: int64"
      ]
     },
     "execution_count": 5,
     "metadata": {},
     "output_type": "execute_result"
    }
   ],
   "source": [
    "# Checking Null values of dataset.\n",
    "\n",
    "df.isnull().sum()"
   ]
  },
  {
   "cell_type": "code",
   "execution_count": 6,
   "metadata": {},
   "outputs": [
    {
     "data": {
      "text/html": [
       "<div>\n",
       "<style scoped>\n",
       "    .dataframe tbody tr th:only-of-type {\n",
       "        vertical-align: middle;\n",
       "    }\n",
       "\n",
       "    .dataframe tbody tr th {\n",
       "        vertical-align: top;\n",
       "    }\n",
       "\n",
       "    .dataframe thead th {\n",
       "        text-align: right;\n",
       "    }\n",
       "</style>\n",
       "<table border=\"1\" class=\"dataframe\">\n",
       "  <thead>\n",
       "    <tr style=\"text-align: right;\">\n",
       "      <th></th>\n",
       "      <th>Unnamed: 0</th>\n",
       "      <th>name</th>\n",
       "      <th>online_order</th>\n",
       "      <th>book_table</th>\n",
       "      <th>rate</th>\n",
       "      <th>votes</th>\n",
       "      <th>location</th>\n",
       "      <th>rest_type</th>\n",
       "      <th>cuisines</th>\n",
       "      <th>approx_cost(for two people)</th>\n",
       "      <th>listed_in(type)</th>\n",
       "      <th>listed_in(city)</th>\n",
       "    </tr>\n",
       "  </thead>\n",
       "  <tbody>\n",
       "    <tr>\n",
       "      <th>0</th>\n",
       "      <td>14221</td>\n",
       "      <td>Shree Ranga Vilas</td>\n",
       "      <td>No</td>\n",
       "      <td>No</td>\n",
       "      <td>3.2/5</td>\n",
       "      <td>7</td>\n",
       "      <td>Electronic City</td>\n",
       "      <td>Casual Dining</td>\n",
       "      <td>North Indian, South Indian, Chinese, Juices</td>\n",
       "      <td>500</td>\n",
       "      <td>Dine-out</td>\n",
       "      <td>Electronic City</td>\n",
       "    </tr>\n",
       "    <tr>\n",
       "      <th>1</th>\n",
       "      <td>43422</td>\n",
       "      <td>Sphyre - Gateway Hotel</td>\n",
       "      <td>No</td>\n",
       "      <td>No</td>\n",
       "      <td>3.6 /5</td>\n",
       "      <td>45</td>\n",
       "      <td>Residency Road</td>\n",
       "      <td>Lounge</td>\n",
       "      <td>Finger Food</td>\n",
       "      <td>1,700</td>\n",
       "      <td>Dine-out</td>\n",
       "      <td>MG Road</td>\n",
       "    </tr>\n",
       "    <tr>\n",
       "      <th>2</th>\n",
       "      <td>16032</td>\n",
       "      <td>Popular Bakery</td>\n",
       "      <td>No</td>\n",
       "      <td>No</td>\n",
       "      <td>3.7/5</td>\n",
       "      <td>36</td>\n",
       "      <td>HSR</td>\n",
       "      <td>Dessert Parlor, Bakery</td>\n",
       "      <td>Desserts, Bakery</td>\n",
       "      <td>600</td>\n",
       "      <td>Delivery</td>\n",
       "      <td>HSR</td>\n",
       "    </tr>\n",
       "    <tr>\n",
       "      <th>3</th>\n",
       "      <td>51635</td>\n",
       "      <td>Thai &amp; Chinese Fast Food</td>\n",
       "      <td>No</td>\n",
       "      <td>No</td>\n",
       "      <td>3.4 /5</td>\n",
       "      <td>7</td>\n",
       "      <td>KR Puram</td>\n",
       "      <td>Quick Bites</td>\n",
       "      <td>Chinese, Thai</td>\n",
       "      <td>400</td>\n",
       "      <td>Dine-out</td>\n",
       "      <td>Whitefield</td>\n",
       "    </tr>\n",
       "    <tr>\n",
       "      <th>4</th>\n",
       "      <td>23424</td>\n",
       "      <td>Grill On Wheels</td>\n",
       "      <td>No</td>\n",
       "      <td>No</td>\n",
       "      <td>NEW</td>\n",
       "      <td>0</td>\n",
       "      <td>JP Nagar</td>\n",
       "      <td>Quick Bites</td>\n",
       "      <td>North Indian, Chinese, BBQ, Arabian, Fast Food</td>\n",
       "      <td>400</td>\n",
       "      <td>Dine-out</td>\n",
       "      <td>JP Nagar</td>\n",
       "    </tr>\n",
       "  </tbody>\n",
       "</table>\n",
       "</div>"
      ],
      "text/plain": [
       "   Unnamed: 0                      name online_order book_table    rate  \\\n",
       "0       14221         Shree Ranga Vilas           No         No   3.2/5   \n",
       "1       43422    Sphyre - Gateway Hotel           No         No  3.6 /5   \n",
       "2       16032            Popular Bakery           No         No   3.7/5   \n",
       "3       51635  Thai & Chinese Fast Food           No         No  3.4 /5   \n",
       "4       23424           Grill On Wheels           No         No     NEW   \n",
       "\n",
       "   votes         location               rest_type  \\\n",
       "0      7  Electronic City           Casual Dining   \n",
       "1     45   Residency Road                  Lounge   \n",
       "2     36              HSR  Dessert Parlor, Bakery   \n",
       "3      7         KR Puram             Quick Bites   \n",
       "4      0         JP Nagar             Quick Bites   \n",
       "\n",
       "                                         cuisines approx_cost(for two people)  \\\n",
       "0     North Indian, South Indian, Chinese, Juices                         500   \n",
       "1                                     Finger Food                       1,700   \n",
       "2                                Desserts, Bakery                         600   \n",
       "3                                   Chinese, Thai                         400   \n",
       "4  North Indian, Chinese, BBQ, Arabian, Fast Food                         400   \n",
       "\n",
       "  listed_in(type)  listed_in(city)  \n",
       "0        Dine-out  Electronic City  \n",
       "1        Dine-out          MG Road  \n",
       "2        Delivery              HSR  \n",
       "3        Dine-out       Whitefield  \n",
       "4        Dine-out         JP Nagar  "
      ]
     },
     "execution_count": 6,
     "metadata": {},
     "output_type": "execute_result"
    }
   ],
   "source": [
    "# Removing unneccessary columns.\n",
    "\n",
    "df.drop(['url','address','phone','dish_liked','reviews_list','menu_item'],axis=1,inplace=True)\n",
    "df.head()"
   ]
  },
  {
   "cell_type": "code",
   "execution_count": 7,
   "metadata": {},
   "outputs": [
    {
     "data": {
      "text/plain": [
       "False    9091\n",
       "True      909\n",
       "dtype: int64"
      ]
     },
     "execution_count": 7,
     "metadata": {},
     "output_type": "execute_result"
    }
   ],
   "source": [
    "# Checking for duplicate values. \n",
    "\n",
    "df.duplicated().value_counts()"
   ]
  },
  {
   "cell_type": "code",
   "execution_count": 8,
   "metadata": {},
   "outputs": [
    {
     "data": {
      "text/plain": [
       "Unnamed: 0                     0\n",
       "name                           0\n",
       "online_order                   0\n",
       "book_table                     0\n",
       "rate                           0\n",
       "votes                          0\n",
       "location                       0\n",
       "rest_type                      0\n",
       "cuisines                       0\n",
       "approx_cost(for two people)    0\n",
       "listed_in(type)                0\n",
       "listed_in(city)                0\n",
       "dtype: int64"
      ]
     },
     "execution_count": 8,
     "metadata": {},
     "output_type": "execute_result"
    }
   ],
   "source": [
    "# Handling null values.\n",
    "\n",
    "df.dropna(inplace=True)\n",
    "df.isnull().sum()"
   ]
  },
  {
   "cell_type": "code",
   "execution_count": 9,
   "metadata": {},
   "outputs": [
    {
     "data": {
      "text/plain": [
       "False    7669\n",
       "dtype: int64"
      ]
     },
     "execution_count": 9,
     "metadata": {},
     "output_type": "execute_result"
    }
   ],
   "source": [
    "# Handling duplicate values.\n",
    "\n",
    "df.drop_duplicates(inplace=True)\n",
    "df.duplicated().value_counts()"
   ]
  },
  {
   "cell_type": "code",
   "execution_count": 10,
   "metadata": {},
   "outputs": [],
   "source": [
    "def get_uniques(df, columns):\n",
    "    return {column: list(df[column].unique()) for column in columns if not column in ['name','rest_type','dish_liked','cuisines']}"
   ]
  },
  {
   "cell_type": "code",
   "execution_count": 11,
   "metadata": {},
   "outputs": [],
   "source": [
    "def get_categorical_columns(fd):\n",
    "    return [column for column in df.columns if df.dtypes[column] == 'object']"
   ]
  },
  {
   "cell_type": "code",
   "execution_count": 12,
   "metadata": {},
   "outputs": [
    {
     "data": {
      "text/plain": [
       "{'online_order': ['No', 'Yes'],\n",
       " 'book_table': ['No', 'Yes'],\n",
       " 'rate': ['3.2/5',\n",
       "  '3.6 /5',\n",
       "  '3.7/5',\n",
       "  '3.4 /5',\n",
       "  'NEW',\n",
       "  '4.2/5',\n",
       "  '3.5 /5',\n",
       "  '4.1 /5',\n",
       "  '3.4/5',\n",
       "  '4.3 /5',\n",
       "  '4.5/5',\n",
       "  '3.0/5',\n",
       "  '3.9/5',\n",
       "  '3.0 /5',\n",
       "  '4.0 /5',\n",
       "  '4.2 /5',\n",
       "  '3.5/5',\n",
       "  '2.9 /5',\n",
       "  '4.3/5',\n",
       "  '4.4 /5',\n",
       "  '3.8/5',\n",
       "  '3.6/5',\n",
       "  '3.3/5',\n",
       "  '3.9 /5',\n",
       "  '3.3 /5',\n",
       "  '4.7/5',\n",
       "  '3.1 /5',\n",
       "  '-',\n",
       "  '4.5 /5',\n",
       "  '3.2 /5',\n",
       "  '3.8 /5',\n",
       "  '3.7 /5',\n",
       "  '2.5 /5',\n",
       "  '4.0/5',\n",
       "  '4.6 /5',\n",
       "  '4.1/5',\n",
       "  '2.6/5',\n",
       "  '3.1/5',\n",
       "  '4.4/5',\n",
       "  '2.6 /5',\n",
       "  '2.7 /5',\n",
       "  '2.9/5',\n",
       "  '2.5/5',\n",
       "  '2.8/5',\n",
       "  '4.6/5',\n",
       "  '4.7 /5',\n",
       "  '2.8 /5',\n",
       "  '4.8 /5',\n",
       "  '4.8/5',\n",
       "  '2.7/5',\n",
       "  '4.9 /5',\n",
       "  '2.2/5',\n",
       "  '2.3 /5',\n",
       "  '4.9/5',\n",
       "  '2.4 /5',\n",
       "  '2.3/5',\n",
       "  '2.1 /5',\n",
       "  '2.4/5',\n",
       "  '2.1/5',\n",
       "  '2.2 /5'],\n",
       " 'location': ['Electronic City',\n",
       "  'Residency Road',\n",
       "  'HSR',\n",
       "  'KR Puram',\n",
       "  'JP Nagar',\n",
       "  'Frazer Town',\n",
       "  'Jayanagar',\n",
       "  'BTM',\n",
       "  'Malleshwaram',\n",
       "  'Marathahalli',\n",
       "  'Kammanahalli',\n",
       "  'Basavanagudi',\n",
       "  'Sarjapur Road',\n",
       "  'Vasanth Nagar',\n",
       "  'CV Raman Nagar',\n",
       "  'Koramangala 7th Block',\n",
       "  'MG Road',\n",
       "  'Koramangala 4th Block',\n",
       "  'Brigade Road',\n",
       "  'Indiranagar',\n",
       "  'Koramangala 5th Block',\n",
       "  'Kumaraswamy Layout',\n",
       "  'City Market',\n",
       "  'Koramangala 6th Block',\n",
       "  'Hennur',\n",
       "  'Whitefield',\n",
       "  'Ulsoor',\n",
       "  'New BEL Road',\n",
       "  'Bannerghatta Road',\n",
       "  'Richmond Road',\n",
       "  'Bellandur',\n",
       "  'Koramangala 3rd Block',\n",
       "  'Nagawara',\n",
       "  'Church Street',\n",
       "  'Kalyan Nagar',\n",
       "  'Wilson Garden',\n",
       "  'Varthur Main Road, Whitefield',\n",
       "  'Race Course Road',\n",
       "  'Brookefield',\n",
       "  'Magadi Road',\n",
       "  'Jeevan Bhima Nagar',\n",
       "  'Cunningham Road',\n",
       "  'St. Marks Road',\n",
       "  'Shanti Nagar',\n",
       "  'Koramangala 1st Block',\n",
       "  'Banashankari',\n",
       "  'HBR Layout',\n",
       "  'Lavelle Road',\n",
       "  'Koramangala 8th Block',\n",
       "  'Bommanahalli',\n",
       "  'Jalahalli',\n",
       "  'Yelahanka',\n",
       "  'Rajajinagar',\n",
       "  'Sadashiv Nagar',\n",
       "  'Commercial Street',\n",
       "  'Domlur',\n",
       "  'Old Madras Road',\n",
       "  'Banaswadi',\n",
       "  'Koramangala 2nd Block',\n",
       "  'Majestic',\n",
       "  'Infantry Road',\n",
       "  'Basaveshwara Nagar',\n",
       "  'Thippasandra',\n",
       "  'Shivajinagar',\n",
       "  'Yeshwantpur',\n",
       "  'Old Airport Road',\n",
       "  'South Bangalore',\n",
       "  'Ejipura',\n",
       "  'Hosur Road',\n",
       "  'Sanjay Nagar',\n",
       "  'Vijay Nagar',\n",
       "  'Sankey Road',\n",
       "  'ITPL Main Road, Whitefield',\n",
       "  'RT Nagar',\n",
       "  'Sahakara Nagar',\n",
       "  'Langford Town',\n",
       "  'North Bangalore',\n",
       "  'Kaggadasapura',\n",
       "  'West Bangalore',\n",
       "  'Koramangala',\n",
       "  'Seshadripuram',\n",
       "  'Rammurthy Nagar',\n",
       "  'East Bangalore',\n",
       "  'Mysore Road',\n",
       "  'Uttarahalli',\n",
       "  'Kanakapura Road',\n",
       "  'Kengeri'],\n",
       " 'approx_cost(for two people)': ['500',\n",
       "  '1,700',\n",
       "  '600',\n",
       "  '400',\n",
       "  '200',\n",
       "  '2,600',\n",
       "  '300',\n",
       "  '700',\n",
       "  '150',\n",
       "  '1,400',\n",
       "  '1,200',\n",
       "  '800',\n",
       "  '900',\n",
       "  '250',\n",
       "  '650',\n",
       "  '2,000',\n",
       "  '100',\n",
       "  '2,800',\n",
       "  '1,000',\n",
       "  '450',\n",
       "  '750',\n",
       "  '950',\n",
       "  '1,500',\n",
       "  '350',\n",
       "  '550',\n",
       "  '1,300',\n",
       "  '1,650',\n",
       "  '1,100',\n",
       "  '1,600',\n",
       "  '2,500',\n",
       "  '2,300',\n",
       "  '2,100',\n",
       "  '2,400',\n",
       "  '3,000',\n",
       "  '70',\n",
       "  '850',\n",
       "  '1,800',\n",
       "  '4,100',\n",
       "  '2,200',\n",
       "  '3,400',\n",
       "  '1,900',\n",
       "  '1,450',\n",
       "  '130',\n",
       "  '40',\n",
       "  '1,050',\n",
       "  '1,350',\n",
       "  '180',\n",
       "  '1,250',\n",
       "  '3,500',\n",
       "  '230',\n",
       "  '199',\n",
       "  '6,000',\n",
       "  '120',\n",
       "  '4,000'],\n",
       " 'listed_in(type)': ['Dine-out',\n",
       "  'Delivery',\n",
       "  'Drinks & nightlife',\n",
       "  'Pubs and bars',\n",
       "  'Cafes',\n",
       "  'Desserts',\n",
       "  'Buffet'],\n",
       " 'listed_in(city)': ['Electronic City',\n",
       "  'MG Road',\n",
       "  'HSR',\n",
       "  'Whitefield',\n",
       "  'JP Nagar',\n",
       "  'Frazer Town',\n",
       "  'Koramangala 7th Block',\n",
       "  'Koramangala 4th Block',\n",
       "  'Koramangala 6th Block',\n",
       "  'Malleshwaram',\n",
       "  'Bellandur',\n",
       "  'Kammanahalli',\n",
       "  'Jayanagar',\n",
       "  'Sarjapur Road',\n",
       "  'Basavanagudi',\n",
       "  'Koramangala 5th Block',\n",
       "  'Residency Road',\n",
       "  'Lavelle Road',\n",
       "  'Old Airport Road',\n",
       "  'Brigade Road',\n",
       "  'Kalyan Nagar',\n",
       "  'BTM',\n",
       "  'Indiranagar',\n",
       "  'New BEL Road',\n",
       "  'Bannerghatta Road',\n",
       "  'Church Street',\n",
       "  'Marathahalli',\n",
       "  'Rajajinagar',\n",
       "  'Banashankari',\n",
       "  'Brookefield']}"
      ]
     },
     "execution_count": 12,
     "metadata": {},
     "output_type": "execute_result"
    }
   ],
   "source": [
    "get_uniques(df, get_categorical_columns(df))"
   ]
  },
  {
   "cell_type": "code",
   "execution_count": 13,
   "metadata": {},
   "outputs": [],
   "source": [
    "# Handling columns with Object / string type (either convert to number / remove them)\n",
    "# drop the 'NEW' value from the rate column\n",
    "df = df.loc[df.rate !='NEW']\n",
    "df = df.loc[df.rate != '-']"
   ]
  },
  {
   "cell_type": "code",
   "execution_count": 14,
   "metadata": {},
   "outputs": [],
   "source": [
    "#Removing '/5' from Rates\n",
    "df['rate'] = df['rate'].apply(lambda x: x.replace('/5',''))\n",
    "# We have to convert rate column to float for further processing\n",
    "df['rate'] = df['rate'].astype('float')"
   ]
  },
  {
   "cell_type": "code",
   "execution_count": 15,
   "metadata": {},
   "outputs": [
    {
     "data": {
      "text/plain": [
       "Unnamed: 0                       int64\n",
       "name                            object\n",
       "online_order                    object\n",
       "book_table                      object\n",
       "rate                           float64\n",
       "votes                            int64\n",
       "location                        object\n",
       "rest_type                       object\n",
       "cuisines                        object\n",
       "approx_cost(for two people)     object\n",
       "listed_in(type)                 object\n",
       "listed_in(city)                 object\n",
       "dtype: object"
      ]
     },
     "execution_count": 15,
     "metadata": {},
     "output_type": "execute_result"
    }
   ],
   "source": [
    "df.dtypes"
   ]
  },
  {
   "cell_type": "code",
   "execution_count": 16,
   "metadata": {},
   "outputs": [],
   "source": [
    "# replacing the \",\" with nothing and converting the results to float\n",
    "df['approx_cost(for two people)'] = df['approx_cost(for two people)'].apply(lambda x: x.replace(',','')) \n",
    "df['approx_cost(for two people)'] = df['approx_cost(for two people)'].astype(float)"
   ]
  },
  {
   "cell_type": "code",
   "execution_count": 17,
   "metadata": {},
   "outputs": [
    {
     "data": {
      "text/plain": [
       "Unnamed: 0                       int64\n",
       "name                            object\n",
       "online_order                    object\n",
       "book_table                      object\n",
       "rate                           float64\n",
       "votes                            int64\n",
       "location                        object\n",
       "rest_type                       object\n",
       "cuisines                        object\n",
       "approx_cost(for two people)    float64\n",
       "listed_in(type)                 object\n",
       "listed_in(city)                 object\n",
       "dtype: object"
      ]
     },
     "execution_count": 17,
     "metadata": {},
     "output_type": "execute_result"
    }
   ],
   "source": [
    "df.dtypes"
   ]
  },
  {
   "cell_type": "markdown",
   "metadata": {},
   "source": [
    "## Q2. Which are the top restaurant chains based on the distribution(frequency) in Bangaluru."
   ]
  },
  {
   "cell_type": "code",
   "execution_count": 18,
   "metadata": {},
   "outputs": [
    {
     "data": {
      "text/html": [
       "<div>\n",
       "<style scoped>\n",
       "    .dataframe tbody tr th:only-of-type {\n",
       "        vertical-align: middle;\n",
       "    }\n",
       "\n",
       "    .dataframe tbody tr th {\n",
       "        vertical-align: top;\n",
       "    }\n",
       "\n",
       "    .dataframe thead th {\n",
       "        text-align: right;\n",
       "    }\n",
       "</style>\n",
       "<table border=\"1\" class=\"dataframe\">\n",
       "  <thead>\n",
       "    <tr style=\"text-align: right;\">\n",
       "      <th></th>\n",
       "      <th>listed_in(city)</th>\n",
       "    </tr>\n",
       "    <tr>\n",
       "      <th>name</th>\n",
       "      <th></th>\n",
       "    </tr>\n",
       "  </thead>\n",
       "  <tbody>\n",
       "    <tr>\n",
       "      <th>McDonald's</th>\n",
       "      <td>16</td>\n",
       "    </tr>\n",
       "    <tr>\n",
       "      <th>Baskin Robbins</th>\n",
       "      <td>16</td>\n",
       "    </tr>\n",
       "    <tr>\n",
       "      <th>Onesta</th>\n",
       "      <td>15</td>\n",
       "    </tr>\n",
       "    <tr>\n",
       "      <th>Keventers</th>\n",
       "      <td>15</td>\n",
       "    </tr>\n",
       "    <tr>\n",
       "      <th>Cafe Coffee Day</th>\n",
       "      <td>14</td>\n",
       "    </tr>\n",
       "    <tr>\n",
       "      <th>...</th>\n",
       "      <td>...</td>\n",
       "    </tr>\n",
       "    <tr>\n",
       "      <th>KL-58 Thalassery Cafe</th>\n",
       "      <td>1</td>\n",
       "    </tr>\n",
       "    <tr>\n",
       "      <th>Kaafi Desi</th>\n",
       "      <td>1</td>\n",
       "    </tr>\n",
       "    <tr>\n",
       "      <th>Kaapi Kendra</th>\n",
       "      <td>1</td>\n",
       "    </tr>\n",
       "    <tr>\n",
       "      <th>Kaaram</th>\n",
       "      <td>1</td>\n",
       "    </tr>\n",
       "    <tr>\n",
       "      <th>re:cess - Hilton Bangalore Embassy GolfLinks</th>\n",
       "      <td>1</td>\n",
       "    </tr>\n",
       "  </tbody>\n",
       "</table>\n",
       "<p>3697 rows × 1 columns</p>\n",
       "</div>"
      ],
      "text/plain": [
       "                                              listed_in(city)\n",
       "name                                                         \n",
       "McDonald's                                                 16\n",
       "Baskin Robbins                                             16\n",
       "Onesta                                                     15\n",
       "Keventers                                                  15\n",
       "Cafe Coffee Day                                            14\n",
       "...                                                       ...\n",
       "KL-58 Thalassery Cafe                                       1\n",
       "Kaafi Desi                                                  1\n",
       "Kaapi Kendra                                                1\n",
       "Kaaram                                                      1\n",
       "re:cess - Hilton Bangalore Embassy GolfLinks                1\n",
       "\n",
       "[3697 rows x 1 columns]"
      ]
     },
     "execution_count": 18,
     "metadata": {},
     "output_type": "execute_result"
    }
   ],
   "source": [
    "q1=df[['name','listed_in(city)']]\n",
    "q1.groupby(['name']).count().sort_values(by='listed_in(city)',ascending=False)"
   ]
  },
  {
   "cell_type": "markdown",
   "metadata": {},
   "source": [
    "The top restaurant chains based on the distribution(frequency) in Bangaluru are:\n",
    "\n",
    "1. McDonald's - 16 outlets.\n",
    "2. Basking Robbins - 16 outlets.\n",
    "3. Onesta - Gundu Pulav - 15 outlets.\n",
    "4. Keventers - 15 outlets.\n",
    "5. Cafe Coffee Day - 14 outlets."
   ]
  },
  {
   "cell_type": "markdown",
   "metadata": {},
   "source": [
    "## Q3. How many restaurants don't accept online orders."
   ]
  },
  {
   "cell_type": "code",
   "execution_count": 19,
   "metadata": {},
   "outputs": [
    {
     "data": {
      "text/plain": [
       "2439"
      ]
     },
     "execution_count": 19,
     "metadata": {},
     "output_type": "execute_result"
    }
   ],
   "source": [
    "q3=df[df['online_order']=='No']['name'].count()\n",
    "q3"
   ]
  },
  {
   "cell_type": "markdown",
   "metadata": {},
   "source": [
    "Number of restaurants that don't accept online orders is 2439."
   ]
  },
  {
   "cell_type": "markdown",
   "metadata": {},
   "source": [
    "## Q4. What is the ratio between restaurants that provide and do not provide table booking."
   ]
  },
  {
   "cell_type": "code",
   "execution_count": 20,
   "metadata": {},
   "outputs": [
    {
     "data": {
      "text/plain": [
       "1103"
      ]
     },
     "execution_count": 20,
     "metadata": {},
     "output_type": "execute_result"
    }
   ],
   "source": [
    "# Count of restaurtants that provide table booking. \n",
    "\n",
    "y_table=df[df['book_table']=='Yes']['name'].count() \n",
    "y_table"
   ]
  },
  {
   "cell_type": "code",
   "execution_count": 21,
   "metadata": {},
   "outputs": [
    {
     "data": {
      "text/plain": [
       "6192"
      ]
     },
     "execution_count": 21,
     "metadata": {},
     "output_type": "execute_result"
    }
   ],
   "source": [
    "# Count of restaurtants that do not provide table booking. \n",
    "\n",
    "n_table=df[df['book_table']=='No']['name'].count()\n",
    "n_table"
   ]
  },
  {
   "cell_type": "code",
   "execution_count": 22,
   "metadata": {},
   "outputs": [
    {
     "data": {
      "text/plain": [
       "0.178"
      ]
     },
     "execution_count": 22,
     "metadata": {},
     "output_type": "execute_result"
    }
   ],
   "source": [
    "# Ratio for table booking.\n",
    "\n",
    "ratio=y_table/n_table\n",
    "round(ratio,3)"
   ]
  },
  {
   "cell_type": "markdown",
   "metadata": {},
   "source": [
    "Ratio between restaurants that provide and do not provide table booking is 0.178."
   ]
  },
  {
   "cell_type": "markdown",
   "metadata": {},
   "source": [
    "## Q5. Use a boxplot on the rating column. Use user defined function or lambda function or apply function to extract the data that comes before."
   ]
  },
  {
   "cell_type": "code",
   "execution_count": 23,
   "metadata": {},
   "outputs": [
    {
     "data": {
      "text/plain": [
       "<AxesSubplot:xlabel='rate'>"
      ]
     },
     "execution_count": 23,
     "metadata": {},
     "output_type": "execute_result"
    },
    {
     "data": {
      "image/png": "[encoded data removed]",
      "text/plain": [
       "<Figure size 1200x800 with 1 Axes>"
      ]
     },
     "metadata": {},
     "output_type": "display_data"
    }
   ],
   "source": [
    "# Have used used lambda and apply function for manipulating the rate column while performing data cleaning.\n",
    "\n",
    "fig = plt.gcf()\n",
    "fig.set_size_inches(12, 8)\n",
    "\n",
    "sns.boxplot(df['rate'])"
   ]
  },
  {
   "cell_type": "code",
   "execution_count": 24,
   "metadata": {},
   "outputs": [
    {
     "data": {
      "text/plain": [
       "3.7    704\n",
       "3.9    674\n",
       "3.8    669\n",
       "3.6    609\n",
       "4.0    561\n",
       "4.1    495\n",
       "3.5    485\n",
       "3.4    432\n",
       "3.3    416\n",
       "4.2    396\n",
       "3.2    318\n",
       "4.3    279\n",
       "3.1    267\n",
       "4.4    217\n",
       "3.0    169\n",
       "2.9    150\n",
       "4.5    114\n",
       "2.8     90\n",
       "4.6     57\n",
       "2.7     51\n",
       "2.6     38\n",
       "4.7     34\n",
       "2.5     17\n",
       "4.9     15\n",
       "2.3     12\n",
       "4.8     11\n",
       "2.4      8\n",
       "2.2      4\n",
       "2.1      3\n",
       "Name: rate, dtype: int64"
      ]
     },
     "execution_count": 24,
     "metadata": {},
     "output_type": "execute_result"
    }
   ],
   "source": [
    "# Veryfing from the data below.\n",
    "\n",
    "df['rate'].value_counts()"
   ]
  },
  {
   "cell_type": "code",
   "execution_count": 25,
   "metadata": {},
   "outputs": [
    {
     "data": {
      "text/plain": [
       "count    7295.000000\n",
       "mean        3.706621\n",
       "std         0.436583\n",
       "min         2.100000\n",
       "25%         3.400000\n",
       "50%         3.700000\n",
       "75%         4.000000\n",
       "max         4.900000\n",
       "Name: rate, dtype: float64"
      ]
     },
     "execution_count": 25,
     "metadata": {},
     "output_type": "execute_result"
    }
   ],
   "source": [
    "# Checking descriptive summary of the rating column.\n",
    "\n",
    "df['rate'].describe()"
   ]
  },
  {
   "cell_type": "markdown",
   "metadata": {},
   "source": [
    "From the above Box plot we can derive the following inference:-\n",
    "\n",
    "1. More than 50% of the rating value is concentrated around the box of boxplot which is around 3.4 stars and 4 stars.\n",
    "2. The mean rating is 3.706621 stars.\n",
    "3. Minimum rating of any restaurant in Bangalore is 2.1 stars.\n",
    "4. Maximum rating of any restaurant in Bangalore is 4.9 stars.\n",
    "5. Outliers - There are few abnormal ratings of restaurants in Bangalore. Most of them being concentrated below the lower whisker which is under 2.5 ratings.\n"
   ]
  },
  {
   "cell_type": "markdown",
   "metadata": {},
   "source": [
    "##  Q6. Online and offline orders percentage."
   ]
  },
  {
   "cell_type": "code",
   "execution_count": 26,
   "metadata": {},
   "outputs": [
    {
     "data": {
      "text/plain": [
       "4856"
      ]
     },
     "execution_count": 26,
     "metadata": {},
     "output_type": "execute_result"
    }
   ],
   "source": [
    "# Count of online order.\n",
    "\n",
    "online_order=df[df['online_order']=='Yes']['name'].count() \n",
    "online_order"
   ]
  },
  {
   "cell_type": "code",
   "execution_count": 27,
   "metadata": {},
   "outputs": [
    {
     "data": {
      "text/plain": [
       "2439"
      ]
     },
     "execution_count": 27,
     "metadata": {},
     "output_type": "execute_result"
    }
   ],
   "source": [
    "# Count of offline order.\n",
    "\n",
    "offline_order=df[df['online_order']=='No']['name'].count() \n",
    "offline_order"
   ]
  },
  {
   "cell_type": "code",
   "execution_count": 28,
   "metadata": {},
   "outputs": [
    {
     "data": {
      "text/plain": [
       "(7295, 12)"
      ]
     },
     "execution_count": 28,
     "metadata": {},
     "output_type": "execute_result"
    }
   ],
   "source": [
    "# Total rows.\n",
    "\n",
    "df.shape"
   ]
  },
  {
   "cell_type": "code",
   "execution_count": 29,
   "metadata": {},
   "outputs": [
    {
     "data": {
      "text/plain": [
       "66.57"
      ]
     },
     "execution_count": 29,
     "metadata": {},
     "output_type": "execute_result"
    }
   ],
   "source": [
    "# Percentage of online orders.\n",
    "\n",
    "perc_online=online_order/7295\n",
    "perc_online_orders=perc_online*100\n",
    "round(perc_online_orders,2)"
   ]
  },
  {
   "cell_type": "code",
   "execution_count": 30,
   "metadata": {},
   "outputs": [
    {
     "data": {
      "text/plain": [
       "33.43"
      ]
     },
     "execution_count": 30,
     "metadata": {},
     "output_type": "execute_result"
    }
   ],
   "source": [
    "# Percentage of offline orders.\n",
    "\n",
    "perc_offline=offline_order/7295\n",
    "perc_offline_orders=perc_offline*100\n",
    "round(perc_offline_orders,2)"
   ]
  },
  {
   "cell_type": "markdown",
   "metadata": {},
   "source": [
    "1. The perecentage of Restaurants accepting Online orders = 66.57%.\n",
    "2. The perecentage of Restaurants accepting Online orders = 33.43%."
   ]
  },
  {
   "cell_type": "markdown",
   "metadata": {},
   "source": [
    "## Q7. Plot the scatter plot using the Cost vs rating variable with respect to online order. Use apply the function Or other function to remove the “,”."
   ]
  },
  {
   "cell_type": "code",
   "execution_count": 31,
   "metadata": {},
   "outputs": [
    {
     "data": {
      "text/plain": [
       "rate  approx_cost(for two people)\n",
       "4.5   1100.0                         1\n",
       "      1900.0                         1\n",
       "4.6   1500.0                         8\n",
       "      600.0                          6\n",
       "      550.0                          5\n",
       "      300.0                          3\n",
       "      750.0                          3\n",
       "      1300.0                         3\n",
       "      1600.0                         3\n",
       "      1700.0                         3\n",
       "      400.0                          2\n",
       "      900.0                          2\n",
       "      1000.0                         2\n",
       "      1100.0                         2\n",
       "      1400.0                         2\n",
       "      1800.0                         2\n",
       "      2200.0                         2\n",
       "      2500.0                         2\n",
       "      2800.0                         2\n",
       "      150.0                          1\n",
       "      200.0                          1\n",
       "      850.0                          1\n",
       "      1200.0                         1\n",
       "      3000.0                         1\n",
       "4.7   1000.0                         4\n",
       "      1300.0                         4\n",
       "      1500.0                         4\n",
       "      1600.0                         4\n",
       "      900.0                          3\n",
       "      400.0                          2\n",
       "      550.0                          2\n",
       "      750.0                          2\n",
       "      1400.0                         2\n",
       "      2400.0                         2\n",
       "      100.0                          1\n",
       "      150.0                          1\n",
       "      1700.0                         1\n",
       "      1800.0                         1\n",
       "      2000.0                         1\n",
       "4.8   2100.0                         3\n",
       "      400.0                          2\n",
       "      1000.0                         2\n",
       "      1200.0                         2\n",
       "      1500.0                         1\n",
       "      1600.0                         1\n",
       "4.9   1500.0                         6\n",
       "      1600.0                         3\n",
       "      2000.0                         3\n",
       "      1400.0                         2\n",
       "      400.0                          1\n",
       "Name: approx_cost(for two people), dtype: int64"
      ]
     },
     "execution_count": 31,
     "metadata": {},
     "output_type": "execute_result"
    }
   ],
   "source": [
    "# Have used used lambda and apply function for manipulating the rate column while performing data cleaning.\n",
    "\n",
    "q7=df.groupby(['rate'])['approx_cost(for two people)'].value_counts().tail(50)\n",
    "q7"
   ]
  },
  {
   "cell_type": "code",
   "execution_count": 32,
   "metadata": {},
   "outputs": [
    {
     "data": {
      "text/plain": [
       "rate\n",
       "2.1     450.000000\n",
       "2.2     812.500000\n",
       "2.3     545.833333\n",
       "2.4     606.250000\n",
       "2.5     641.176471\n",
       "2.6     597.368421\n",
       "2.7     563.725490\n",
       "2.8     525.544444\n",
       "2.9     476.666667\n",
       "3.0     496.153846\n",
       "3.1     430.711610\n",
       "3.2     391.981132\n",
       "3.3     388.028846\n",
       "3.4     399.305556\n",
       "3.5     429.814433\n",
       "3.6     418.538588\n",
       "3.7     488.267045\n",
       "3.8     575.784753\n",
       "3.9     611.424332\n",
       "4.0     645.953654\n",
       "4.1     782.121212\n",
       "4.2     896.237374\n",
       "4.3    1095.806452\n",
       "4.4    1103.548387\n",
       "4.5    1199.122807\n",
       "4.6    1208.771930\n",
       "4.7    1207.352941\n",
       "4.8    1327.272727\n",
       "4.9    1533.333333\n",
       "Name: approx_cost(for two people), dtype: float64"
      ]
     },
     "execution_count": 32,
     "metadata": {},
     "output_type": "execute_result"
    }
   ],
   "source": [
    "df.groupby(['rate'])['approx_cost(for two people)'].mean()"
   ]
  },
  {
   "cell_type": "code",
   "execution_count": 33,
   "metadata": {},
   "outputs": [
    {
     "data": {
      "text/plain": [
       "count    7295.000000\n",
       "mean      602.172584\n",
       "std       456.261508\n",
       "min        40.000000\n",
       "25%       300.000000\n",
       "50%       500.000000\n",
       "75%       700.000000\n",
       "max      6000.000000\n",
       "Name: approx_cost(for two people), dtype: float64"
      ]
     },
     "execution_count": 33,
     "metadata": {},
     "output_type": "execute_result"
    }
   ],
   "source": [
    "df['approx_cost(for two people)'].describe()"
   ]
  },
  {
   "cell_type": "code",
   "execution_count": 34,
   "metadata": {},
   "outputs": [
    {
     "data": {
      "text/plain": [
       "<AxesSubplot:xlabel='approx_cost(for two people)', ylabel='rate'>"
      ]
     },
     "execution_count": 34,
     "metadata": {},
     "output_type": "execute_result"
    },
    {
     "data": {
      "image/png": "[encoded data removed]",
      "text/plain": [
       "<Figure size 1200x800 with 1 Axes>"
      ]
     },
     "metadata": {},
     "output_type": "display_data"
    }
   ],
   "source": [
    "fig = plt.gcf()\n",
    "fig.set_size_inches(12, 8)\n",
    "\n",
    "sns.scatterplot(df['approx_cost(for two people)'],df['rate'],x_jitter=0.8,y_jitter=0.8)"
   ]
  },
  {
   "cell_type": "markdown",
   "metadata": {},
   "source": [
    "From the above Box plot we can derive the following inference:-\n",
    "\n",
    "1. Most values are scattered around 3.7 stars rating in the y-axis and Rs 800 in the x-axis.\n",
    "2. Average cost for 2 people for an outing at a Bangalore restaurant is Rs 602.172584.\n",
    "3. 50% of the values are around Rs 500 for average cost for 2 people.\n",
    "4. Outliers - There are only 3 restaurants whose average cost for 2 people is in excess of Rs 4000, the highest being Rs 6000."
   ]
  },
  {
   "cell_type": "markdown",
   "metadata": {},
   "source": [
    "## Q8. Find the distribution of the votes and Approx_cost using a user-defined function and for a loop."
   ]
  },
  {
   "cell_type": "code",
   "execution_count": 35,
   "metadata": {},
   "outputs": [
    {
     "data": {
      "text/html": [
       "<div>\n",
       "<style scoped>\n",
       "    .dataframe tbody tr th:only-of-type {\n",
       "        vertical-align: middle;\n",
       "    }\n",
       "\n",
       "    .dataframe tbody tr th {\n",
       "        vertical-align: top;\n",
       "    }\n",
       "\n",
       "    .dataframe thead th {\n",
       "        text-align: right;\n",
       "    }\n",
       "</style>\n",
       "<table border=\"1\" class=\"dataframe\">\n",
       "  <thead>\n",
       "    <tr style=\"text-align: right;\">\n",
       "      <th></th>\n",
       "      <th>votes</th>\n",
       "      <th>approx_cost(for two people)</th>\n",
       "    </tr>\n",
       "  </thead>\n",
       "  <tbody>\n",
       "    <tr>\n",
       "      <th>0</th>\n",
       "      <td>7</td>\n",
       "      <td>500.0</td>\n",
       "    </tr>\n",
       "    <tr>\n",
       "      <th>1</th>\n",
       "      <td>45</td>\n",
       "      <td>1700.0</td>\n",
       "    </tr>\n",
       "    <tr>\n",
       "      <th>2</th>\n",
       "      <td>36</td>\n",
       "      <td>600.0</td>\n",
       "    </tr>\n",
       "    <tr>\n",
       "      <th>3</th>\n",
       "      <td>7</td>\n",
       "      <td>400.0</td>\n",
       "    </tr>\n",
       "    <tr>\n",
       "      <th>5</th>\n",
       "      <td>142</td>\n",
       "      <td>500.0</td>\n",
       "    </tr>\n",
       "    <tr>\n",
       "      <th>...</th>\n",
       "      <td>...</td>\n",
       "      <td>...</td>\n",
       "    </tr>\n",
       "    <tr>\n",
       "      <th>9991</th>\n",
       "      <td>96</td>\n",
       "      <td>1100.0</td>\n",
       "    </tr>\n",
       "    <tr>\n",
       "      <th>9993</th>\n",
       "      <td>119</td>\n",
       "      <td>700.0</td>\n",
       "    </tr>\n",
       "    <tr>\n",
       "      <th>9994</th>\n",
       "      <td>40</td>\n",
       "      <td>400.0</td>\n",
       "    </tr>\n",
       "    <tr>\n",
       "      <th>9997</th>\n",
       "      <td>619</td>\n",
       "      <td>1000.0</td>\n",
       "    </tr>\n",
       "    <tr>\n",
       "      <th>9999</th>\n",
       "      <td>42</td>\n",
       "      <td>300.0</td>\n",
       "    </tr>\n",
       "  </tbody>\n",
       "</table>\n",
       "<p>7295 rows × 2 columns</p>\n",
       "</div>"
      ],
      "text/plain": [
       "      votes  approx_cost(for two people)\n",
       "0         7                        500.0\n",
       "1        45                       1700.0\n",
       "2        36                        600.0\n",
       "3         7                        400.0\n",
       "5       142                        500.0\n",
       "...     ...                          ...\n",
       "9991     96                       1100.0\n",
       "9993    119                        700.0\n",
       "9994     40                        400.0\n",
       "9997    619                       1000.0\n",
       "9999     42                        300.0\n",
       "\n",
       "[7295 rows x 2 columns]"
      ]
     },
     "execution_count": 35,
     "metadata": {},
     "output_type": "execute_result"
    }
   ],
   "source": [
    "q8=df[['votes','approx_cost(for two people)']]\n",
    "q8"
   ]
  },
  {
   "cell_type": "code",
   "execution_count": 36,
   "metadata": {},
   "outputs": [
    {
     "data": {
      "image/png": "[encoded data removed]",
      "text/plain": [
       "<Figure size 1000x1000 with 1 Axes>"
      ]
     },
     "metadata": {},
     "output_type": "display_data"
    }
   ],
   "source": [
    "plt.figure(figsize=(10,10))\n",
    "for i in q8.columns:\n",
    "    sns.histplot(q8,kde=True)"
   ]
  },
  {
   "cell_type": "markdown",
   "metadata": {},
   "source": [
    "From the above Distribution plot we can derive the following inference:-\n",
    "\n",
    "1. There are more votes concentrated towards the approx cost around Rs 600. \n",
    "2. The votes recieved for approx cost near 500 is almost 2800."
   ]
  },
  {
   "cell_type": "markdown",
   "metadata": {},
   "source": [
    "## Q9. Which are the most common restaurant type in Banglore?"
   ]
  },
  {
   "cell_type": "code",
   "execution_count": 37,
   "metadata": {},
   "outputs": [],
   "source": [
    "q9=df['rest_type'].value_counts()"
   ]
  },
  {
   "cell_type": "code",
   "execution_count": 38,
   "metadata": {},
   "outputs": [
    {
     "data": {
      "text/plain": [
       "Quick Bites    2431\n",
       "Name: rest_type, dtype: int64"
      ]
     },
     "execution_count": 38,
     "metadata": {},
     "output_type": "execute_result"
    }
   ],
   "source": [
    "# Most common restaurant type in Bangalore:-\n",
    "\n",
    "q9.head(1) "
   ]
  },
  {
   "cell_type": "markdown",
   "metadata": {},
   "source": [
    "Most common restaurant type in Bangalore is that of the quick bites, with 2431 restaurants in quick bites category."
   ]
  },
  {
   "cell_type": "markdown",
   "metadata": {},
   "source": [
    "## Q10. Is there any difference b/w the votes of restaurants accepting and not accepting online orders?"
   ]
  },
  {
   "cell_type": "code",
   "execution_count": 39,
   "metadata": {},
   "outputs": [
    {
     "data": {
      "text/html": [
       "<div>\n",
       "<style scoped>\n",
       "    .dataframe tbody tr th:only-of-type {\n",
       "        vertical-align: middle;\n",
       "    }\n",
       "\n",
       "    .dataframe tbody tr th {\n",
       "        vertical-align: top;\n",
       "    }\n",
       "\n",
       "    .dataframe thead th {\n",
       "        text-align: right;\n",
       "    }\n",
       "</style>\n",
       "<table border=\"1\" class=\"dataframe\">\n",
       "  <thead>\n",
       "    <tr style=\"text-align: right;\">\n",
       "      <th></th>\n",
       "      <th>Unnamed: 0</th>\n",
       "      <th>name</th>\n",
       "      <th>online_order</th>\n",
       "      <th>book_table</th>\n",
       "      <th>rate</th>\n",
       "      <th>votes</th>\n",
       "      <th>location</th>\n",
       "      <th>rest_type</th>\n",
       "      <th>cuisines</th>\n",
       "      <th>approx_cost(for two people)</th>\n",
       "      <th>listed_in(type)</th>\n",
       "      <th>listed_in(city)</th>\n",
       "    </tr>\n",
       "  </thead>\n",
       "  <tbody>\n",
       "    <tr>\n",
       "      <th>0</th>\n",
       "      <td>14221</td>\n",
       "      <td>Shree Ranga Vilas</td>\n",
       "      <td>No</td>\n",
       "      <td>No</td>\n",
       "      <td>3.2</td>\n",
       "      <td>7</td>\n",
       "      <td>Electronic City</td>\n",
       "      <td>Casual Dining</td>\n",
       "      <td>North Indian, South Indian, Chinese, Juices</td>\n",
       "      <td>500.0</td>\n",
       "      <td>Dine-out</td>\n",
       "      <td>Electronic City</td>\n",
       "    </tr>\n",
       "    <tr>\n",
       "      <th>1</th>\n",
       "      <td>43422</td>\n",
       "      <td>Sphyre - Gateway Hotel</td>\n",
       "      <td>No</td>\n",
       "      <td>No</td>\n",
       "      <td>3.6</td>\n",
       "      <td>45</td>\n",
       "      <td>Residency Road</td>\n",
       "      <td>Lounge</td>\n",
       "      <td>Finger Food</td>\n",
       "      <td>1700.0</td>\n",
       "      <td>Dine-out</td>\n",
       "      <td>MG Road</td>\n",
       "    </tr>\n",
       "    <tr>\n",
       "      <th>2</th>\n",
       "      <td>16032</td>\n",
       "      <td>Popular Bakery</td>\n",
       "      <td>No</td>\n",
       "      <td>No</td>\n",
       "      <td>3.7</td>\n",
       "      <td>36</td>\n",
       "      <td>HSR</td>\n",
       "      <td>Dessert Parlor, Bakery</td>\n",
       "      <td>Desserts, Bakery</td>\n",
       "      <td>600.0</td>\n",
       "      <td>Delivery</td>\n",
       "      <td>HSR</td>\n",
       "    </tr>\n",
       "    <tr>\n",
       "      <th>3</th>\n",
       "      <td>51635</td>\n",
       "      <td>Thai &amp; Chinese Fast Food</td>\n",
       "      <td>No</td>\n",
       "      <td>No</td>\n",
       "      <td>3.4</td>\n",
       "      <td>7</td>\n",
       "      <td>KR Puram</td>\n",
       "      <td>Quick Bites</td>\n",
       "      <td>Chinese, Thai</td>\n",
       "      <td>400.0</td>\n",
       "      <td>Dine-out</td>\n",
       "      <td>Whitefield</td>\n",
       "    </tr>\n",
       "    <tr>\n",
       "      <th>5</th>\n",
       "      <td>15103</td>\n",
       "      <td>Patisserie Nitash</td>\n",
       "      <td>No</td>\n",
       "      <td>No</td>\n",
       "      <td>4.2</td>\n",
       "      <td>142</td>\n",
       "      <td>Frazer Town</td>\n",
       "      <td>Bakery</td>\n",
       "      <td>Bakery</td>\n",
       "      <td>500.0</td>\n",
       "      <td>Delivery</td>\n",
       "      <td>Frazer Town</td>\n",
       "    </tr>\n",
       "  </tbody>\n",
       "</table>\n",
       "</div>"
      ],
      "text/plain": [
       "   Unnamed: 0                      name online_order book_table  rate  votes  \\\n",
       "0       14221         Shree Ranga Vilas           No         No   3.2      7   \n",
       "1       43422    Sphyre - Gateway Hotel           No         No   3.6     45   \n",
       "2       16032            Popular Bakery           No         No   3.7     36   \n",
       "3       51635  Thai & Chinese Fast Food           No         No   3.4      7   \n",
       "5       15103         Patisserie Nitash           No         No   4.2    142   \n",
       "\n",
       "          location               rest_type  \\\n",
       "0  Electronic City           Casual Dining   \n",
       "1   Residency Road                  Lounge   \n",
       "2              HSR  Dessert Parlor, Bakery   \n",
       "3         KR Puram             Quick Bites   \n",
       "5      Frazer Town                  Bakery   \n",
       "\n",
       "                                      cuisines  approx_cost(for two people)  \\\n",
       "0  North Indian, South Indian, Chinese, Juices                        500.0   \n",
       "1                                  Finger Food                       1700.0   \n",
       "2                             Desserts, Bakery                        600.0   \n",
       "3                                Chinese, Thai                        400.0   \n",
       "5                                       Bakery                        500.0   \n",
       "\n",
       "  listed_in(type)  listed_in(city)  \n",
       "0        Dine-out  Electronic City  \n",
       "1        Dine-out          MG Road  \n",
       "2        Delivery              HSR  \n",
       "3        Dine-out       Whitefield  \n",
       "5        Delivery      Frazer Town  "
      ]
     },
     "execution_count": 39,
     "metadata": {},
     "output_type": "execute_result"
    }
   ],
   "source": [
    "df.head()"
   ]
  },
  {
   "cell_type": "code",
   "execution_count": 40,
   "metadata": {},
   "outputs": [
    {
     "data": {
      "text/plain": [
       "online_order  votes\n",
       "No            4        122\n",
       "              7         93\n",
       "              6         84\n",
       "              5         74\n",
       "              11        67\n",
       "                      ... \n",
       "Yes           7330       1\n",
       "              7584       1\n",
       "              9064       1\n",
       "              9079       1\n",
       "              9085       1\n",
       "Name: votes, Length: 1661, dtype: int64"
      ]
     },
     "execution_count": 40,
     "metadata": {},
     "output_type": "execute_result"
    }
   ],
   "source": [
    "q10=df.groupby(['online_order'])['votes'].value_counts()\n",
    "q10"
   ]
  },
  {
   "cell_type": "code",
   "execution_count": 41,
   "metadata": {},
   "outputs": [
    {
     "data": {
      "text/plain": [
       "count    1661.000000\n",
       "mean        4.391933\n",
       "std         9.051122\n",
       "min         1.000000\n",
       "25%         1.000000\n",
       "50%         2.000000\n",
       "75%         4.000000\n",
       "max       122.000000\n",
       "Name: votes, dtype: float64"
      ]
     },
     "execution_count": 41,
     "metadata": {},
     "output_type": "execute_result"
    }
   ],
   "source": [
    "q10.describe()"
   ]
  },
  {
   "cell_type": "code",
   "execution_count": 42,
   "metadata": {},
   "outputs": [
    {
     "data": {
      "text/plain": [
       "online_order\n",
       "No     2439\n",
       "Yes    4856\n",
       "Name: votes, dtype: int64"
      ]
     },
     "execution_count": 42,
     "metadata": {},
     "output_type": "execute_result"
    }
   ],
   "source": [
    "df.groupby(['online_order'])['votes'].count()"
   ]
  },
  {
   "cell_type": "code",
   "execution_count": 43,
   "metadata": {},
   "outputs": [
    {
     "data": {
      "text/plain": [
       "1015132"
      ]
     },
     "execution_count": 43,
     "metadata": {},
     "output_type": "execute_result"
    }
   ],
   "source": [
    "# Total votes recieved for restaurants not accepting online orders.\n",
    "\n",
    "df[df['online_order']=='No']['votes'].sum()"
   ]
  },
  {
   "cell_type": "code",
   "execution_count": 44,
   "metadata": {},
   "outputs": [
    {
     "data": {
      "text/plain": [
       "1630811"
      ]
     },
     "execution_count": 44,
     "metadata": {},
     "output_type": "execute_result"
    }
   ],
   "source": [
    "# Total votes recieved for restaurants accepting online orders.\n",
    "\n",
    "df[df['online_order']=='Yes']['votes'].sum()"
   ]
  },
  {
   "cell_type": "code",
   "execution_count": 45,
   "metadata": {},
   "outputs": [
    {
     "data": {
      "text/plain": [
       "-615679"
      ]
     },
     "execution_count": 45,
     "metadata": {},
     "output_type": "execute_result"
    }
   ],
   "source": [
    "# Difference in votes.\n",
    "\n",
    "diff=1015132-1630811\n",
    "diff"
   ]
  },
  {
   "cell_type": "markdown",
   "metadata": {},
   "source": [
    "We notice there is a massive difference in number of total votes recieved for Restaurant accepting online orders vs Restaurants\n",
    "not accepting online orders which is 615,679 votes."
   ]
  },
  {
   "cell_type": "code",
   "execution_count": 46,
   "metadata": {
    "scrolled": false
   },
   "outputs": [
    {
     "data": {
      "text/plain": [
       "<AxesSubplot:xlabel='online_order', ylabel='votes'>"
      ]
     },
     "execution_count": 46,
     "metadata": {},
     "output_type": "execute_result"
    },
    {
     "data": {
      "image/png": "[encoded data removed]",
      "text/plain": [
       "<Figure size 1200x800 with 1 Axes>"
      ]
     },
     "metadata": {},
     "output_type": "display_data"
    }
   ],
   "source": [
    "# Violin Plot for online order vs votes.\n",
    "\n",
    "fig = plt.gcf()\n",
    "fig.set_size_inches(12, 8)\n",
    "\n",
    "sns.violinplot(df['online_order'],df['votes'])"
   ]
  },
  {
   "cell_type": "markdown",
   "metadata": {},
   "source": [
    "From the above Violin plot we can derive the following inference:-\n",
    "\n",
    "1. From the above Violin plot we can infer that the size of violen thickens for the Restaurants accepting online orders. \n",
    "2. Restaurants accepting online orders get more votes than the ones not accepting online orders.\n",
    "3. Customers prefer ordering online from Restaurants accepting online orders."
   ]
  },
  {
   "cell_type": "markdown",
   "metadata": {},
   "source": [
    "## Q11. Which are the most common restaurant type in Banglore?"
   ]
  },
  {
   "cell_type": "code",
   "execution_count": 47,
   "metadata": {},
   "outputs": [
    {
     "data": {
      "text/plain": [
       "Index(['Unnamed: 0', 'name', 'online_order', 'book_table', 'rate', 'votes',\n",
       "       'location', 'rest_type', 'cuisines', 'approx_cost(for two people)',\n",
       "       'listed_in(type)', 'listed_in(city)'],\n",
       "      dtype='object')"
      ]
     },
     "execution_count": 47,
     "metadata": {},
     "output_type": "execute_result"
    }
   ],
   "source": [
    "df.columns"
   ]
  },
  {
   "cell_type": "code",
   "execution_count": 48,
   "metadata": {},
   "outputs": [
    {
     "data": {
      "text/plain": [
       "Quick Bites    2431\n",
       "Name: rest_type, dtype: int64"
      ]
     },
     "execution_count": 48,
     "metadata": {},
     "output_type": "execute_result"
    }
   ],
   "source": [
    "df['rest_type'].value_counts().head(1)"
   ]
  },
  {
   "cell_type": "markdown",
   "metadata": {},
   "source": [
    "The most common Restaurant type is Quick bytes, having 2431 restaurants under the category."
   ]
  },
  {
   "cell_type": "markdown",
   "metadata": {},
   "source": [
    "## Q12. Find the Best budget Restaurants in any location."
   ]
  },
  {
   "cell_type": "code",
   "execution_count": 49,
   "metadata": {},
   "outputs": [
    {
     "data": {
      "text/plain": [
       "approx_cost(for two people)\n",
       "40.0                    Srinidhi Sagar Deluxe\n",
       "70.0                        Nellore Dosa Camp\n",
       "100.0                   Ambur Hot Dum Biryani\n",
       "120.0                Malleshwaram Dosa Corner\n",
       "130.0                    Natural Mumbai Kulfi\n",
       "150.0                           4th Tea Block\n",
       "180.0    Pabrai's Fresh & Naturelle Icecreams\n",
       "199.0                          Veganbreak24x7\n",
       "200.0                      1992 Chats - Space\n",
       "230.0            Rock Stone Ice Cream Factory\n",
       "Name: name, dtype: object"
      ]
     },
     "execution_count": 49,
     "metadata": {},
     "output_type": "execute_result"
    }
   ],
   "source": [
    "df.groupby('approx_cost(for two people)')['name'].min().head(10)"
   ]
  },
  {
   "cell_type": "markdown",
   "metadata": {},
   "source": [
    "We see that the Restaurant 'Srinidhi Sagar Deluxe' is the most budget friendly Restaurant in any location in Bangalore with \n",
    "an approximate cost for 2 people at Rs 40 only."
   ]
  },
  {
   "cell_type": "markdown",
   "metadata": {},
   "source": [
    "## Q13. Top quick bites restaurant chains in Bangalore."
   ]
  },
  {
   "cell_type": "code",
   "execution_count": 50,
   "metadata": {},
   "outputs": [
    {
     "data": {
      "text/plain": [
       "Index(['Unnamed: 0', 'name', 'online_order', 'book_table', 'rate', 'votes',\n",
       "       'location', 'rest_type', 'cuisines', 'approx_cost(for two people)',\n",
       "       'listed_in(type)', 'listed_in(city)'],\n",
       "      dtype='object')"
      ]
     },
     "execution_count": 50,
     "metadata": {},
     "output_type": "execute_result"
    }
   ],
   "source": [
    "df.columns"
   ]
  },
  {
   "cell_type": "code",
   "execution_count": 51,
   "metadata": {},
   "outputs": [
    {
     "data": {
      "text/plain": [
       "McDonald's                   16\n",
       "KFC                          14\n",
       "SGS Non Veg - Gundu Pulav    12\n",
       "Pathaan Sir                  11\n",
       "Pizza Stop                   10\n",
       "                             ..\n",
       "Amaravati Food Court          1\n",
       "Bendakaluru Bytes             1\n",
       "Dosa Plaza                    1\n",
       "Upahar Banashree              1\n",
       "Food Square                   1\n",
       "Name: name, Length: 1425, dtype: int64"
      ]
     },
     "execution_count": 51,
     "metadata": {},
     "output_type": "execute_result"
    }
   ],
   "source": [
    "df[df['rest_type']=='Quick Bites']['name'].value_counts()"
   ]
  },
  {
   "cell_type": "markdown",
   "metadata": {},
   "source": [
    "The most popular Quick Bites type Restaurant chains in Bangalore are:-\n",
    "\n",
    "1. McDonald's - 16 outlets.\n",
    "2. KFC - 14 outlets.\n",
    "3. SGS Non Veg - Gundu Pulav - 12 outlets.\n",
    "4. Pathaan Sir - 11 outlets.\n",
    "5. Ambur Hot Dum Biriyani - 10 outlets."
   ]
  },
  {
   "cell_type": "markdown",
   "metadata": {},
   "source": [
    "## Q14.Which are the most popular casual dining restaurant chains, Make use of any plot related to this question?"
   ]
  },
  {
   "cell_type": "code",
   "execution_count": 52,
   "metadata": {},
   "outputs": [
    {
     "data": {
      "text/plain": [
       "Wangs Kitchen                            9\n",
       "Thalassery Restaurant                    9\n",
       "Toscano                                  9\n",
       "A2B - Adyar Ananda Bhavan                9\n",
       "Oye Amritsar                             8\n",
       "                                        ..\n",
       "West Wood                                1\n",
       "The Orchard                              1\n",
       "Ocean's Delight                          1\n",
       "Tasting Room - Bengaluru Oota Company    1\n",
       "Manifest Cafe                            1\n",
       "Name: name, Length: 906, dtype: int64"
      ]
     },
     "execution_count": 52,
     "metadata": {},
     "output_type": "execute_result"
    }
   ],
   "source": [
    "df[df['rest_type']=='Casual Dining']['name'].value_counts()"
   ]
  },
  {
   "cell_type": "markdown",
   "metadata": {},
   "source": [
    "The most popular Casual Dining type Restaurant chains in Bangalore are:-\n",
    "\n",
    "1. A2B - Adyar Ananda Bhavan - 9 outlets.\n",
    "2. Thalassery Restaurant - 9 outlets.\n",
    "3. Toscano - 9 outlets.\n",
    "4. Wangs Kitchen - 9 outlets.\n",
    "5. Vinny's- 8 outlets."
   ]
  },
  {
   "cell_type": "code",
   "execution_count": 53,
   "metadata": {},
   "outputs": [
    {
     "data": {
      "image/png": "[encoded data removed]",
      "text/plain": [
       "<Figure size 1500x700 with 1 Axes>"
      ]
     },
     "metadata": {},
     "output_type": "display_data"
    }
   ],
   "source": [
    "# Plotting the most popular casual dining restaurant chains in Bangalore.\n",
    "\n",
    "plt.figure(figsize=(15,7))\n",
    "casual = df[df['rest_type']=='Casual Dining']['name'].value_counts()[:15]\n",
    "sns.barplot(x = casual,y = casual.index)\n",
    "plt.title(\"Top Casual Dining Restaurants\")\n",
    "plt.xlabel(\"No of Restaurants\")\n",
    "plt.show()"
   ]
  },
  {
   "cell_type": "markdown",
   "metadata": {},
   "source": [
    "## Q15. Which are the most popular cuisines of Bangalore using a related plot?"
   ]
  },
  {
   "cell_type": "code",
   "execution_count": 54,
   "metadata": {
    "scrolled": true
   },
   "outputs": [
    {
     "data": {
      "text/plain": [
       "North Indian, Chinese                          340\n",
       "North Indian                                   338\n",
       "South Indian                                   215\n",
       "Bakery, Desserts                               126\n",
       "South Indian, North Indian, Chinese            110\n",
       "                                              ... \n",
       "Mangalorean, Chinese, Seafood, North Indian      1\n",
       "Continental, North Indian, Chinese, Bengali      1\n",
       "Asian, Chinese, Continental, Italian             1\n",
       "Mughlai, Biryani, Chinese, North Indian          1\n",
       "Chinese, Street Food, Rolls                      1\n",
       "Name: cuisines, Length: 1550, dtype: int64"
      ]
     },
     "execution_count": 54,
     "metadata": {},
     "output_type": "execute_result"
    }
   ],
   "source": [
    "df['cuisines'].value_counts()"
   ]
  },
  {
   "cell_type": "markdown",
   "metadata": {},
   "source": [
    "The most popular cuisines of Bangalore are:-\n",
    "\n",
    "1. North Indian, Chinese - 340 restaurants.\n",
    "2. North Indian - 338 restaurants.\n",
    "3. South Indian - 215 restaurants.\n",
    "4. Bakery, Desserts - 126 restaurants.\n",
    "5. South Indian, North Indian, Chinese - 110 restaurants."
   ]
  },
  {
   "cell_type": "code",
   "execution_count": 55,
   "metadata": {
    "scrolled": false
   },
   "outputs": [
    {
     "data": {
      "image/png": "[encoded data removed]",
      "text/plain": [
       "<Figure size 1500x700 with 1 Axes>"
      ]
     },
     "metadata": {},
     "output_type": "display_data"
    }
   ],
   "source": [
    "# Plotting bar chart for most popular cuisines of Bangalore.\n",
    "\n",
    "plt.figure(figsize=(15,7))\n",
    "cuisine = df['cuisines'].value_counts()[:15]\n",
    "sns.barplot(x = cuisine,y = cuisine.index)\n",
    "plt.title(\"Restaurant types\")\n",
    "plt.xlabel(\"count\")\n",
    "plt.show()"
   ]
  },
  {
   "cell_type": "code",
   "execution_count": null,
   "metadata": {},
   "outputs": [],
   "source": [
    "** THANK YOU. **\n",
    "Batch : Great Learning, DSE August 2022.\n",
    "Project Group No : 13\n",
    "Project No : 3\n",
    "Group Members : M.sriLatha,Aarti singh,Sunil,Vivek,Aayushman"
   ]
  }
 ],
 "metadata": {
  "kernelspec": {
   "display_name": "Python 3 (ipykernel)",
   "language": "python",
   "name": "python3"
  },
  "language_info": {
   "codemirror_mode": {
    "name": "ipython",
    "version": 3
   },
   "file_extension": ".py",
   "mimetype": "text/x-python",
   "name": "python",
   "nbconvert_exporter": "python",
   "pygments_lexer": "ipython3",
   "version": "3.9.13"
  }
 },
 "nbformat": 4,
 "nbformat_minor": 4
}
